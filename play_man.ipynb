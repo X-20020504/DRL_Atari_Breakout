{
 "cells": [
  {
   "cell_type": "code",
   "execution_count": 12,
   "id": "ccfb1137",
   "metadata": {},
   "outputs": [],
   "source": [
    "import gymnasium as gym\n",
    "\n",
    "import ale_py\n",
    "import shimmy"
   ]
  },
  {
   "cell_type": "code",
   "execution_count": 13,
   "id": "56ef88da",
   "metadata": {},
   "outputs": [],
   "source": [
    "def onRelease(key):\n",
    "    try:\n",
    "        if 'a' == key.char:\n",
    "            action_value = 3 # 向左移动\n",
    "        elif 'd' == key.char:\n",
    "            action_value = 2 # 向右移动\n",
    "    except AttributeError:\n",
    "        pass"
   ]
  },
  {
   "cell_type": "code",
   "execution_count": 14,
   "id": "8e339b40",
   "metadata": {},
   "outputs": [],
   "source": [
    "# 监听键盘\n",
    "import pynput.keyboard as keyboard\n",
    "\n",
    "listener = keyboard.Listener(on_release=onRelease)\n",
    "listener.start()\n",
    "\n",
    "action_value = 0"
   ]
  },
  {
   "cell_type": "code",
   "execution_count": 15,
   "id": "3ea1935e",
   "metadata": {},
   "outputs": [],
   "source": [
    "## 延时\n",
    "import time\n",
    "\n",
    "def waitKey(time_ms):\n",
    "    start_time = time.time()\n",
    "    \n",
    "    while time.time-start_time<0.1:\n",
    "        continue"
   ]
  },
  {
   "cell_type": "code",
   "execution_count": 16,
   "id": "8891fc11",
   "metadata": {},
   "outputs": [],
   "source": [
    "env = gym.make(\"ALE/Breakout-v5\")\n",
    "observation, info = env.reset()\n",
    "\n",
    "for _ in range(1000):\n",
    "    action = take_action_keyboard()\n",
    "    observation, reward, terminated, truncated, info = env.step(action)\n",
    "\n",
    "    if terminated or truncated:\n",
    "        observation, info = env.reset()\n",
    "\n",
    "env.close()"
   ]
  },
  {
   "cell_type": "code",
   "execution_count": null,
   "id": "17cced87",
   "metadata": {},
   "outputs": [],
   "source": []
  }
 ],
 "metadata": {
  "kernelspec": {
   "display_name": "Python 3 (ipykernel)",
   "language": "python",
   "name": "python3"
  },
  "language_info": {
   "codemirror_mode": {
    "name": "ipython",
    "version": 3
   },
   "file_extension": ".py",
   "mimetype": "text/x-python",
   "name": "python",
   "nbconvert_exporter": "python",
   "pygments_lexer": "ipython3",
   "version": "3.10.9"
  }
 },
 "nbformat": 4,
 "nbformat_minor": 5
}
